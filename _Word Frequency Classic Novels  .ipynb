{
 "cells": [
  {
   "cell_type": "markdown",
   "id": "2fd39ae9",
   "metadata": {},
   "source": [
    "#  Word Frequency Classic Novels  from the website The Project Gutenberg eBook of Romeo and Juliet"
   ]
  },
  {
   "cell_type": "markdown",
   "id": "fde92d6f",
   "metadata": {},
   "source": [
    "The notebook demonstrates how to scrape web data, extract meaningful information, and perform basic text analysis tasks using popular Python libraries :\n",
    "\n",
    "- requests\n",
    "- BeautifulSoup\n",
    "- NLTK, and Counter. \n",
    "\n",
    "Specifically, it focuses on the novel \"Romeo and Juliet\" from Project Gutenberg (https://www.gutenberg.org/ebooks/1513)"
   ]
  },
  {
   "cell_type": "code",
   "execution_count": 1,
   "id": "7e8376f3",
   "metadata": {},
   "outputs": [],
   "source": [
    "import requests\n",
    "from bs4 import BeautifulSoup\n",
    "import nltk\n",
    "from collections import Counter"
   ]
  },
  {
   "cell_type": "code",
   "execution_count": 19,
   "id": "d92c84ba",
   "metadata": {},
   "outputs": [],
   "source": [
    "# Getting the Romeo and Juliet HTML \n",
    "r = requests.get('https://www.gutenberg.org/cache/epub/1513/pg1513-images.html')\n",
    "\n",
    "# Setting the correct text encoding of the HTML page\n",
    "r.encoding = 'utf-8'\n",
    "\n",
    "# Extracting the HTML from the request object\n",
    "html = r.text\n"
   ]
  },
  {
   "cell_type": "code",
   "execution_count": 18,
   "id": "609e66d2",
   "metadata": {},
   "outputs": [
    {
     "name": "stdout",
     "output_type": "stream",
     "text": [
      "say Jove laughs. O gentle Romeo,\r\n",
      "If thou dost love, pronounce it faithfully.\r\n",
      "Or if thou thinkest I am too quickly won,\r\n",
      "I’ll frown and be perverse, and say thee nay,\r\n",
      "So thou wilt woo. But else, not for the world.\r\n",
      "In truth, fair Montague, I am too fond;\r\n",
      "And therefore thou mayst think my ’haviour light:\r\n",
      "But trust me, gentleman, I’ll prove more true\r\n",
      "Than those that have more cunning to be strange.\r\n",
      "I should have been more strange, I must confess,\r\n",
      "But that thou overheard’st, ere I was ’ware,\r\n",
      "My true-love passion; therefore pardon me,\r\n",
      "And not impute this yielding to light love,\r\n",
      "Which the dark night hath so discovered.\r\n",
      "\n",
      "\r\n",
      "ROMEO.\r\n",
      "Lady, by yonder blessed moon I vow,\r\n",
      "That tips with silver all these fruit-tree tops,—\r\n",
      "\n",
      "\r\n",
      "JULIET.\r\n",
      "O swear not by the moon, th’inconstant moon,\r\n",
      "That monthly changes in her circled orb,\r\n",
      "Lest that thy love prove likewise variable.\r\n",
      "\n",
      "\r\n",
      "ROMEO.\r\n",
      "What shall I swear by?\r\n",
      "\n",
      "\r\n",
      "JULIET.\r\n",
      "Do not swear at all.\r\n",
      "Or if thou wilt, swear by thy gracious self,\r\n",
      "Which is the god of my idolatry,\r\n",
      "And I’ll believe thee.\r\n",
      "\n",
      "\r\n",
      "ROMEO.\r\n",
      "If my heart’s dear love,—\r\n",
      "\n",
      "\r\n",
      "JULIET.\r\n",
      "Well, do not swear. Although I joy in thee,\r\n",
      "I have no joy of this contract tonight;\r\n",
      "It is too rash, too unadvis’d, too sudden,\r\n",
      "Too like the lightning, which doth cease to be\r\n",
      "Ere one can say “It lightens.” Sweet, good night.\r\n",
      "This bud of love, by summer’s ripening breath,\r\n",
      "May prove a beauteous flower when next we meet.\r\n",
      "Good night, good night. As sweet repose and rest\r\n",
      "Come to thy heart as that within my breast.\r\n",
      "\n",
      "\r\n",
      "ROMEO.\r\n",
      "O wilt thou leave me so unsatisfied?\r\n",
      "\n",
      "\r\n",
      "JULIET.\r\n",
      "What satisfaction canst thou have tonight?\r\n",
      "\n",
      "\r\n",
      "ROMEO.\r\n",
      "Th’exchange of thy love’s faithful vow for mine.\r\n",
      "\n",
      "\r\n",
      "JULIET.\r\n",
      "I gave thee mine before thou didst request it;\r\n",
      "And yet I would it were to give again.\r\n",
      "\n",
      "\r\n",
      "ROMEO.\r\n",
      "Would’st thou withdraw it? For what purpose, love?\r\n",
      "\n",
      "\r\n",
      "JULIET.\r\n",
      "But to be frank and give it thee again.\r\n",
      "And yet I wish but for the thing I have;\r\n",
      "My bounty is as boundless as the sea,\r\n",
      "My love as deep; the more I give to thee,\r\n",
      "The more I have, for both are infinite.\r\n",
      "I hear some noise within. Dear love, adieu.\r\n",
      "[Nurse calls within.]\r\n",
      "Anon, good Nurse!—Sweet Montague be true.\r\n",
      "Stay but a little, I will come again.\r\n",
      "\n",
      "[Exit.]\n",
      "\r\n",
      "ROMEO.\r\n",
      "O blessed, blessed night. I am afeard,\r\n",
      "Being in night, all this is but a dream,\r\n",
      "Too flattering sweet to be substantial.\r\n",
      "\n",
      "Enter Juliet above.\n",
      "\r\n",
      "JULIET.\r\n",
      "Three words, dear Romeo, and good night indeed.\r\n",
      "If that thy bent of love be honourable,\r\n",
      "Thy purpose marriage, send me word tomorrow,\r\n",
      "By one that I’ll procure to come to thee,\r\n",
      "Where and what time thou wilt perform the rite,\r\n",
      "And all my fortunes at thy foot I’ll lay\r\n",
      "And follow thee my lord throughout the world.\r\n",
      "\n",
      "\r\n",
      "NURSE.\r\n",
      "[Within.] Madam.\r\n",
      "\n",
      "\r\n",
      "JULIET.\r\n",
      "I come, anon.— But if thou meanest not well,\r\n",
      "I do beseech thee,—\r\n",
      "\n",
      "\r\n",
      "NURSE.\r\n",
      "[Within.] Madam.\r\n",
      "\n",
      "\r\n",
      "JULIET.\r\n",
      "By and by I come—\r\n",
      "To cease thy strife and leave me to my grief.\r\n",
      "Tomorrow will I send.\r\n",
      "\n",
      "\r\n",
      "ROMEO.\r\n",
      "So thrive my soul,—\r\n",
      "\n",
      "\r\n",
      "JULIET.\r\n",
      "A thousand times good night.\r\n",
      "\n",
      "[Exit.]\n",
      "\r\n",
      "ROMEO.\r\n",
      "A thousand times the worse, to want thy light.\r\n",
      "Love goes toward love as schoolboys from their books,\r\n",
      "But love from love, towards school with heavy looks.\r\n",
      "\n",
      "[Retiring slowly.]\n",
      "Re-enter Juliet, above.\n",
      "\r\n",
      "JULIET.\r\n",
      "Hist! Romeo, hist! O for a falconer’s voice\r\n",
      "To lure this tassel-gentle back again.\r\n",
      "Bondage is hoarse and may not speak aloud,\r\n",
      "Else would I tear the cave where Echo lies,\r\n",
      "And make her airy tongue more hoarse than mine\r\n",
      "With repetition of my Romeo’s name.\r\n",
      "\n",
      "\r\n",
      "ROMEO.\r\n",
      "It is my soul that calls upon my name.\r\n",
      "How silver-sweet sound lovers’ tongues by night,\r\n",
      "Like softest music to attending ears.\r\n",
      "\n",
      "\r\n",
      "JULIET.\r\n",
      "Romeo.\r\n",
      "\n",
      "\r\n",
      "ROMEO.\r\n",
      "My nyas?\r\n",
      "\n",
      "\r\n",
      "JULIET.\r\n",
      "What o’clock tomorrow\r\n",
      "Shall I send to thee?\r\n",
      "\n",
      "\r\n",
      "ROMEO.\r\n",
      "By the hour of nine.\r\n",
      "\n",
      "\r\n",
      "JULIET.\r\n",
      "I will not fail. ’Tis twenty years till then.\r\n",
      "I have forgot why I did call thee back.\r\n",
      "\n",
      "\r\n",
      "ROMEO.\r\n",
      "Let me stand here till thou remember it.\r\n",
      "\n",
      "\r\n",
      "JULIET.\r\n",
      "I shall forget, to have thee still stand there,\r\n",
      "Remembering how I love thy company.\r\n",
      "\n",
      "\r\n",
      "ROMEO.\r\n",
      "And I’ll still stay, to have thee still forget,\r\n",
      "Forgetting any other home but this.\r\n",
      "\n",
      "\r\n",
      "JULIET.\r\n",
      "’Tis almost morning; I would have thee gone,\r\n",
      "And yet no farther than a wanton’s bird,\r\n",
      "That lets it hop a little from her hand,\r\n",
      "Like a poor prisoner in his twisted gyves,\r\n",
      "And with a silk thread plucks it back again,\r\n",
      "So loving-jealous of his liberty.\r\n",
      "\n",
      "\r\n",
      "ROMEO.\r\n",
      "I would I were thy bird.\r\n",
      "\n",
      "\r\n",
      "JULIET.\r\n",
      "Sweet, so would I:\r\n",
      "Yet I should kill thee with much cherishing.\r\n",
      "Good night, good night. Parting is such sweet sorrow\r\n",
      "That I shall say good night till it be morrow.\r\n",
      "\n",
      "[Exit.]\n",
      "\r\n",
      "ROMEO.\r\n",
      "Sleep dwell upon thine eyes, peace in thy breast.\r\n",
      "Would I were sleep and peace, so sweet to rest.\r\n",
      "Hence will I to my ghostly Sire’s cell,\r\n",
      "His help to crave and my dear hap to tell.\r\n",
      "\n",
      "[Exit.]\n",
      " SCENE III. Friar Lawrence’s Cell.\n",
      "Enter Friar Lawrence\r\n",
      "with a basket.\n",
      "\r\n",
      "FRIAR LAWRENCE.\r\n",
      "The grey-ey’d morn smiles on the frowning night,\r\n",
      "Chequering the eastern clouds w\n"
     ]
    }
   ],
   "source": [
    "# Creating a BeautifulSoup object from the HTML\n",
    "soup = BeautifulSoup(html, \"html.parser\")\n",
    "\n",
    "# Getting the text out of the soup\n",
    "text = soup.get_text()\n",
    "\n",
    "# Printing out text between characters 45000 and 50000\n",
    "print(text[45000:50000])"
   ]
  },
  {
   "cell_type": "code",
   "execution_count": 20,
   "id": "b8b8da20",
   "metadata": {},
   "outputs": [
    {
     "data": {
      "text/plain": [
       "['The',\n",
       " 'Project',\n",
       " 'Gutenberg',\n",
       " 'eBook',\n",
       " 'of',\n",
       " 'Romeo',\n",
       " 'and',\n",
       " 'Juliet',\n",
       " 'by',\n",
       " 'William']"
      ]
     },
     "execution_count": 20,
     "metadata": {},
     "output_type": "execute_result"
    }
   ],
   "source": [
    "# Creating a tokenizer\n",
    "tokenizer = nltk.tokenize.RegexpTokenizer('\\w+')\n",
    "\n",
    "# Tokenizing the text\n",
    "tokens = tokenizer.tokenize(text)\n",
    "\n",
    "# Printing out the first 10 words / tokens \n",
    "tokens[0:10]"
   ]
  },
  {
   "cell_type": "code",
   "execution_count": 23,
   "id": "49bb21c6",
   "metadata": {},
   "outputs": [
    {
     "data": {
      "text/plain": [
       "['the',\n",
       " 'project',\n",
       " 'gutenberg',\n",
       " 'ebook',\n",
       " 'of',\n",
       " 'romeo',\n",
       " 'and',\n",
       " 'juliet',\n",
       " 'by',\n",
       " 'william']"
      ]
     },
     "execution_count": 23,
     "metadata": {},
     "output_type": "execute_result"
    }
   ],
   "source": [
    "# Create a list called words containing all tokens transformed to lower-case\n",
    "words = [token.lower() for token in tokens]\n",
    "\n",
    "words[:10]"
   ]
  },
  {
   "cell_type": "code",
   "execution_count": 22,
   "id": "ed0a64b0",
   "metadata": {},
   "outputs": [
    {
     "name": "stderr",
     "output_type": "stream",
     "text": [
      "[nltk_data] Downloading package stopwords to\n",
      "[nltk_data]     C:\\Users\\Administrator\\AppData\\Roaming\\nltk_data...\n",
      "[nltk_data]   Package stopwords is already up-to-date!\n"
     ]
    },
    {
     "data": {
      "text/plain": [
       "True"
      ]
     },
     "execution_count": 22,
     "metadata": {},
     "output_type": "execute_result"
    }
   ],
   "source": [
    "import nltk\n",
    "nltk.download('stopwords')"
   ]
  },
  {
   "cell_type": "code",
   "execution_count": 24,
   "id": "a616bde1",
   "metadata": {
    "scrolled": true
   },
   "outputs": [
    {
     "data": {
      "text/plain": [
       "['i', 'me', 'my', 'myself', 'we', 'our', 'ours', 'ourselves', 'you', \"you're\"]"
      ]
     },
     "execution_count": 24,
     "metadata": {},
     "output_type": "execute_result"
    }
   ],
   "source": [
    "# Getting the English stop words from nltk\n",
    "sw = nltk.corpus.stopwords.words(\"english\")\n",
    "\n",
    "sw[0:10]"
   ]
  },
  {
   "cell_type": "code",
   "execution_count": 25,
   "id": "f70814c4",
   "metadata": {},
   "outputs": [
    {
     "data": {
      "text/plain": [
       "['project',\n",
       " 'gutenberg',\n",
       " 'ebook',\n",
       " 'romeo',\n",
       " 'juliet',\n",
       " 'william',\n",
       " 'shakespeare',\n",
       " 'project']"
      ]
     },
     "execution_count": 25,
     "metadata": {},
     "output_type": "execute_result"
    }
   ],
   "source": [
    "# Create a list words_ns containing all words that are in words but not in sw\n",
    "words_ns = [word for word in words if word not in sw]\n",
    "\n",
    "# Printing the first 8 words_ns to check that stop words are gone\n",
    "words_ns[:8]"
   ]
  },
  {
   "cell_type": "code",
   "execution_count": 26,
   "id": "5f02ec8c",
   "metadata": {
    "scrolled": true
   },
   "outputs": [
    {
     "name": "stdout",
     "output_type": "stream",
     "text": [
      "[('romeo', 321), ('thou', 278), ('juliet', 195), ('thy', 170), ('capulet', 163), ('love', 151), ('nurse', 149), ('thee', 138), ('lady', 117), ('shall', 112), ('friar', 105), ('gutenberg', 99)]\n"
     ]
    }
   ],
   "source": [
    "# Initialize a Counter object from our processed list of words\n",
    "count = Counter(words_ns)\n",
    "\n",
    "# Store 10 most common words and their counts as top_ten\n",
    "top_ten = count.most_common(10)\n",
    "\n",
    "# Print the top ten words and their counts\n",
    "print(top_ten)"
   ]
  },
  {
   "cell_type": "code",
   "execution_count": 32,
   "id": "d23b34f5",
   "metadata": {},
   "outputs": [
    {
     "data": {
      "image/png": "[encoded data removed]",
      "text/plain": [
       "<Figure size 1000x600 with 1 Axes>"
      ]
     },
     "metadata": {},
     "output_type": "display_data"
    }
   ],
   "source": [
    "import matplotlib.pyplot as plt\n",
    "\n",
    "# Retrieve words and their frequencies from top_ten\n",
    "words = [pair[0] for pair in top_ten]\n",
    "counts = [pair[1] for pair in top_ten]\n",
    "\n",
    "# Plotting\n",
    "plt.figure(figsize=(10, 6))\n",
    "bars = plt.bar(words, counts, color='green')  # Change the color to green\n",
    "plt.xlabel('Word')\n",
    "plt.ylabel('Frequency')\n",
    "plt.title('10 Most Common Words in Romeo and Juliet')\n",
    "plt.xticks(rotation=45, ha='right')\n",
    "plt.tight_layout()\n",
    "\n",
    "# Showing the plot\n",
    "plt.show()"
   ]
  },
  {
   "cell_type": "markdown",
   "id": "1d4b24a2",
   "metadata": {},
   "source": [
    "### Counting unique words\n",
    "\n",
    "Unique words in this context refer to each word that appears in the text of the novel \"Romeo and Juliet\" that you're analyzing, but appears only once. In other words, unique words are the words that do not have duplicates in the text.\n"
   ]
  },
  {
   "cell_type": "code",
   "execution_count": 33,
   "id": "d1b7bd52",
   "metadata": {},
   "outputs": [
    {
     "name": "stdout",
     "output_type": "stream",
     "text": [
      "Total unique words: 3897\n"
     ]
    }
   ],
   "source": [
    "unique_words = set(words_ns)\n",
    "print(\"Total unique words:\", len(unique_words))"
   ]
  },
  {
   "cell_type": "code",
   "execution_count": 34,
   "id": "12757618",
   "metadata": {},
   "outputs": [
    {
     "name": "stdout",
     "output_type": "stream",
     "text": [
      "Total number of words: 16262\n"
     ]
    }
   ],
   "source": [
    "# Counting total number of words\n",
    "total_words = len(words_ns)\n",
    "print(\"Total number of words:\", total_words)"
   ]
  }
 ],
 "metadata": {
  "kernelspec": {
   "display_name": "Python 3 (ipykernel)",
   "language": "python",
   "name": "python3"
  },
  "language_info": {
   "codemirror_mode": {
    "name": "ipython",
    "version": 3
   },
   "file_extension": ".py",
   "mimetype": "text/x-python",
   "name": "python",
   "nbconvert_exporter": "python",
   "pygments_lexer": "ipython3",
   "version": "3.10.9"
  }
 },
 "nbformat": 4,
 "nbformat_minor": 5
}
